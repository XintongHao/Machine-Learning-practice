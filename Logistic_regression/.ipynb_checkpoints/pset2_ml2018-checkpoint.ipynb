{
 "cells": [
  {
   "cell_type": "markdown",
   "metadata": {},
   "source": [
    "# Problem Set 2: Classification\n",
    "\n",
    "To run and solve this assignment, one must have a working IPython Notebook installation. The easiest way to set it up for both Windows and Linux is to install [Anaconda](https://www.continuum.io/downloads). Then save this file to your computer (use \"Raw\" link on gist\\github), run Anaconda and choose this file in Anaconda's file explorer. Use `Python 3` version. Below statements assume that you have already followed these instructions. If you are new to Python or its scientific library, Numpy, there are some nice tutorials [here](https://www.learnpython.org/) and [here](http://www.scipy-lectures.org/).\n",
    "\n",
    "To run code in a cell or to render [Markdown](https://en.wikipedia.org/wiki/Markdown)+[LaTeX](https://en.wikipedia.org/wiki/LaTeX) press `Ctr+Enter` or `[>|]`(like \"play\") button above. To edit any code or text cell [double]click on its content. To change cell type, choose \"Markdown\" or \"Code\" in the drop-down menu above.\n",
    "\n",
    "If a certain output is given for some cells, that means that you are expected to get similar results in order to receive full points (small deviations are fine). For some parts we have already written the code for you. You should read it closely and understand what it does.\n",
    "\n",
    "Total: 100 points."
   ]
  },
  {
   "cell_type": "markdown",
   "metadata": {},
   "source": [
    "### 1. Logistic Regression\n",
    "\n",
    "In this part of the exercise, you will build a logistic regression model to predict whether a student\n",
    "gets admitted into a university.\n",
    "\n",
    "Suppose that you are the administrator of a university department and you want to determine\n",
    "each applicant’s chance of admission based on their results on two exams. You have historical\n",
    "data from previous applicants in *ex2data1.txt* that you can use as a training set for logistic regression. For each\n",
    "training example, you have the applicant’s scores on two exams and the admissions decision.\n",
    "\n",
    "Your task is to build a classification model that estimates an applicant’s probability of admission based on the scores from those two exams. This outline and code framework will guide you through the exercise.\n",
    "\n",
    "**1\\.1 Implementation**"
   ]
  },
  {
   "cell_type": "code",
   "execution_count": 1,
   "metadata": {},
   "outputs": [
    {
     "name": "stdout",
     "output_type": "stream",
     "text": [
      "Tested with:\n",
      "Python 3.6.5 |Anaconda, Inc.| (default, Apr 26 2018, 08:42:37) \n",
      "[GCC 4.2.1 Compatible Clang 4.0.1 (tags/RELEASE_401/final)]\n",
      "{'numpy': '1.14.3', 'matplotlib': '2.2.2'}\n"
     ]
    }
   ],
   "source": [
    "import sys\n",
    "import numpy as np\n",
    "import matplotlib\n",
    "import matplotlib.pyplot as plt\n",
    "print('Tested with:')\n",
    "print('Python', sys.version)\n",
    "print({x.__name__: x.__version__ for x in [np, matplotlib]})"
   ]
  },
  {
   "cell_type": "markdown",
   "metadata": {},
   "source": [
    "**1.1.1 Visualizing the data**\n",
    "\n",
    "Before starting to implement any learning algorithm, it is always good to visualize the data if possible. This first part of the code will load the data and display it on a 2-dimensional plot by calling the function plotData. The axes are the two exam scores, and the positive and negative examples are shown with different markers."
   ]
  },
  {
   "cell_type": "code",
   "execution_count": 2,
   "metadata": {
    "collapsed": true
   },
   "outputs": [],
   "source": [
    "################################################################################\n",
    "# Try to fit your code and comments into 80 charecters because\n",
    "# - it is guaranteed to look as intened on any screen size\n",
    "# - it encourages you to write \"flater\" logic that is easier to reason about\n",
    "# - it encourages you to decompose logic into comprehansible blocks.\n",
    "# \n",
    "# Try to avoid reassinging/mutating variables because when you encounter an \n",
    "# unexplainable bugs (you will) it is easier to have the whole history\n",
    "# of values to reason about.\n",
    "#\n",
    "# Using %debug magic to run pdb might be useful for debugging. \n",
    "# It is just like gdb but for Python."
   ]
  },
  {
   "cell_type": "code",
   "execution_count": 3,
   "metadata": {},
   "outputs": [
    {
     "name": "stdout",
     "output_type": "stream",
     "text": [
      "(100, 2) 30.05882244669796 99.82785779692128 float64\n",
      "(100, 1) 0.0 1.0 float64\n",
      "(100, 3) 1.0 99.82785779692128 float64\n",
      "(100, 1) 0 1 int32\n"
     ]
    }
   ],
   "source": [
    "# it is good to isolate logical parts to avoid variables leaking into the\n",
    "# global scope and messing up your logic later in weird ways\n",
    "\n",
    "def read_classification_csv_data(fn, add_ones=False):\n",
    "    # read comma separated data\n",
    "    data = np.loadtxt(fn, delimiter=',')\n",
    "    X_, y_ = data[:, :-1], data[:, -1, None]  # a fast way to keep last dim\n",
    "\n",
    "    # printing statistics of data before working with it might have saved\n",
    "    # hundreds hours of of my time, do not repeat my errors :)\n",
    "    print(X_.shape, X_.min(), X_.max(), X_.dtype)\n",
    "    print(y_.shape, y_.min(), y_.max(), y_.dtype)\n",
    "    # aha, y is float! this is not what we expected\n",
    "    # what might go wrong with further y == 0 checks?\n",
    "    # A: floating point equality comparison, that's what!\n",
    "\n",
    "    # insert the column of 1's into the \"X\" matrix (for bias)\n",
    "    X = np.insert(X_, X_.shape[1], 1, axis=1) if add_ones else X_\n",
    "    y = y_.astype(np.int32)\n",
    "    return X, y\n",
    "    \n",
    "X_data, y_data = read_classification_csv_data('ex2data1.txt', add_ones=True)\n",
    "print(X_data.shape, X_data.min(), X_data.max(), X_data.dtype)\n",
    "print(y_data.shape, y_data.min(), y_data.max(), y_data.dtype)"
   ]
  },
  {
   "cell_type": "code",
   "execution_count": 4,
   "metadata": {},
   "outputs": [
    {
     "data": {
      "image/png": "[encoded data removed]",
      "text/plain": [
       "<Figure size 720x432 with 1 Axes>"
      ]
     },
     "metadata": {},
     "output_type": "display_data"
    }
   ],
   "source": [
    "# how does the *X[y.ravel()==1, :2].T trick work?\n",
    "# https://docs.python.org/3/tutorial/controlflow.html#unpacking-argument-lists\n",
    "%matplotlib inline\n",
    "\n",
    "def plot_data(X, y, labels, markers, xlabel, ylabel, figsize=(10, 6), ax=None):\n",
    "    if figsize is not None:\n",
    "        plt.figure(figsize=figsize)\n",
    "\n",
    "    ax = ax or plt.gca()\n",
    "    for label_id, (label, marker) in enumerate(zip(labels, markers)):        \n",
    "        ax.plot(*X_data[y_data.ravel()==label_id, :2].T, marker, label=label)\n",
    "    ax.set_xlabel(xlabel)\n",
    "    ax.set_ylabel(ylabel)\n",
    "    plt.legend()\n",
    "    ax.grid(True)\n",
    "    \n",
    "student_plotting_spec = {\n",
    "    'X': X_data,\n",
    "    'y': y_data, \n",
    "    'xlabel': 'Exam 1 score', \n",
    "    'ylabel': 'Exam 2 score',\n",
    "    'labels': ['Not admitted', 'Admitted'], \n",
    "    'markers': ['yo', 'k+'], \n",
    "    'figsize': (10, 6)\n",
    "}\n",
    "    \n",
    "plot_data(**student_plotting_spec)\n",
    "plt.show()"
   ]
  },
  {
   "cell_type": "markdown",
   "metadata": {},
   "source": [
    "**1.1.2 [5pts] Sigmoid function** \n",
    "\n",
    "Before you start with the actual cost function, recall that the logistic regression hypothesis is defined as:\n",
    "\n",
    "$h_\\theta(x) = g(\\theta^Tx)$\n",
    "\n",
    "where function g is the sigmoid function. The sigmoid function is defined as:\n",
    "\n",
    "$g(z) = \\dfrac{1}{1+e^{-z}}$\n",
    "\n",
    "Your first step is to implement/find a sigmoid function so it can be called by the rest of your program. Your code should also work with vectors and matrices. For a matrix, your function should perform the sigmoid function on every element. \n",
    "\n",
    "When you are finished, (a) plot the sigmoid function, and (b) test the function with a scalar, a vector, and a matrix. For scalar large positive values of x, the sigmoid should be close to 1, while for scalar large negative values, the sigmoid should be close to 0. Evaluating sigmoid(0) should give you exactly 0.5."
   ]
  },
  {
   "cell_type": "code",
   "execution_count": 5,
   "metadata": {},
   "outputs": [
    {
     "data": {
      "image/png": "[encoded data removed]",
      "text/plain": [
       "<Figure size 432x288 with 1 Axes>"
      ]
     },
     "metadata": {},
     "output_type": "display_data"
    },
    {
     "name": "stdout",
     "output_type": "stream",
     "text": [
      "(50,) (49,)\n"
     ]
    },
    {
     "data": {
      "image/png": "[encoded data removed]",
      "text/plain": [
       "<Figure size 432x288 with 1 Axes>"
      ]
     },
     "metadata": {},
     "output_type": "display_data"
    }
   ],
   "source": [
    "# check out scipy.special for great variaty of vectorized functions\n",
    "# remember that sigmoid is the inverse of logit function\n",
    "# maybe worth checking out scipy.special.logit first\n",
    "\n",
    "from scipy.stats import logistic\n",
    "\n",
    "def sigmoid(z):\n",
    "    return logistic.cdf(z)\n",
    "\n",
    "def check_that_sigmoid_f(f):\n",
    "    # don't use np.arange with float step because it works as\n",
    "    # val_{i+1} = val_i + step while val_i < end\n",
    "    # what might do wrong with float precision?\n",
    "    x_test = np.linspace(-10, 10, 50)\n",
    "    sigm_test = f(x_test)\n",
    "    plt.plot(x_test, sigm_test)\n",
    "    plt.title(\"Sigmoid function\")\n",
    "    plt.grid(True)\n",
    "    plt.show()\n",
    "    \n",
    "    # why should analytical_diff almost== finite_diff for sigmoid?\n",
    "    analytical_diff = sigm_test*(1-sigm_test)\n",
    "    finite_step = x_test[1]-x_test[0]\n",
    "    finite_diff = np.diff(sigm_test) / finite_step\n",
    "    print(x_test.shape, finite_diff.shape)\n",
    "    plt.plot(x_test[:-1]+finite_step/2, finite_diff)\n",
    "    plt.plot(x_test, analytical_diff)\n",
    "    plt.title(\"Numerical (finite difference) derivative of 1d sigmoid\")\n",
    "    plt.grid(True)\n",
    "    plt.show()\n",
    "    \n",
    "    \n",
    "check_that_sigmoid_f(sigmoid)"
   ]
  },
  {
   "cell_type": "markdown",
   "metadata": {},
   "source": [
    "**1.1.3 [15pts] Cost function and gradient**\n",
    "\n",
    "Now you will implement the cost function and gradient for logistic regression. Complete the code\n",
    "in the functions *hyposesis_function* and *binary_logistic_loss* below to return the value of the hypothesis function and the cost, respectively. Recall that the cost function in logistic regression is\n",
    "\n",
    "$j(\\theta) \\ = \\ \\frac{1}{m} \\ \\sum_{i=1}^{m} \\ [ \\ -y^{(i)} log(h_\\theta(x^{(i)})) \\ - \\ (1 - y^{(i)})log(1-h_\\theta(x^{(i)})) \\ ]$\n",
    "\n",
    "and the gradient of the cost is a vector of the same length as $\\theta$ where the $j^{th}$ element (for $j = 0, 1,...,n$) is defined as follows:\n",
    "\n",
    "$\\frac{\\partial J(\\theta)}{\\partial \\theta_{j}} \\ = \\ \\frac{1}{m} \\ \\sum_{i=1}^{m} \\ (h_\\theta(x^{(i)})-y^{(i)}) x_j^{(i)}$\n",
    "\n",
    "where $m$ is the number of points and $n$ is the number of features. Note that while this gradient looks identical to the linear regression gradient, the formula is\n",
    "actually different because linear and logistic regression have different definitions of $h_\\theta(x)$.\n",
    "\n",
    "What should be the value of the loss for $\\theta = \\bar 0$ regardless of input? Why? Make sure your code also outputs this value."
   ]
  },
  {
   "cell_type": "code",
   "execution_count": 6,
   "metadata": {},
   "outputs": [],
   "source": [
    "# we are trying to fit a function that would return a \n",
    "# \"probability of \"\n",
    "\n",
    "# hyposesis_function describes parametric family of functions that we are\n",
    "# going to pick our \"best fitting function\" from. It is parameterized by\n",
    "# real-valued vector theta, i.e. we are going to pick\n",
    "#    h_best = argmin_{h \\in H} logistic_loss_h(x, y, h)\n",
    "# but because there exist a bijection between theta's and h's it is \n",
    "# eqvivalent to choosing\n",
    "#    theta_best = argmin_{theta \\in H} logistic_loss_theta(x, y, theta)\n",
    "\n",
    "def hyposesis_function(x, theta):\n",
    "    return sigmoid(np.dot(x, theta))\n",
    "    \n",
    "\n",
    "# negative log likelihood of observing sequence of integer\n",
    "# y's given probabilities y_pred's of each Bernoulli trial\n",
    "# recommentation: convert both variables to float's \n",
    "# or weird sign stuff might happen like -1*y != -y for uint8\n",
    "# use np.mean and broadcasting\n",
    "def binary_logistic_loss(y, y_pred):\n",
    "    assert y_pred.shape == y.shape\n",
    "    m = y_pred.shape[0]\n",
    "    return -1/m * np.sum( np.multiply(np.log(y_pred), y) + np.multiply(np.log(1-y_pred), (1-y)))\n",
    "     \n",
    "\n",
    "def logistic_loss_theta_grad(x, y, h, theta):\n",
    "    y_pred = h(x, theta)\n",
    "    point_wise_grads = (y_pred - y)*x\n",
    "    grad = np.mean(point_wise_grads, axis=0)[:, None]\n",
    "    assert grad.shape == theta.shape\n",
    "    return grad\n",
    "    \n",
    "\n",
    "def logistic_loss_theta(x, y, h, theta):\n",
    "    return binary_logistic_loss(y, h(x, theta))"
   ]
  },
  {
   "cell_type": "code",
   "execution_count": 7,
   "metadata": {},
   "outputs": [
    {
     "name": "stdout",
     "output_type": "stream",
     "text": [
      "0.6931471805599453\n",
      "[[-12.00921659]\n",
      " [-11.26284221]\n",
      " [ -0.1       ]]\n"
     ]
    }
   ],
   "source": [
    "# Check that with theta as zeros, cost is about 0.693:\n",
    "theta_init = np.zeros((X_data.shape[1], 1))\n",
    "print(logistic_loss_theta(X_data, y_data, hyposesis_function, theta_init))\n",
    "print(logistic_loss_theta_grad(X_data, y_data, hyposesis_function, theta_init))"
   ]
  },
  {
   "cell_type": "markdown",
   "metadata": {},
   "source": [
    "**Answer**\n",
    "\n",
    "When  $\\theta = \\bar 0$, the sigmoid function $g(z) = \\dfrac{1}{1+e^{-z}}$ when z=0 will always return 0.5 as the value for hyposesis_function. Thus the hyposesis_function will return a vector of 0.5 and pass to the cost function.\n",
    "\n",
    "The cost function is defined below:\n",
    "$j(\\theta) \\ = \\ \\frac{1}{m} \\ \\sum_{i=1}^{m} \\ [ \\ -y^{(i)} log(h_\\theta(x^{(i)})) \\ - \\ (1 - y^{(i)})log(1-h_\\theta(x^{(i)})) \\ ]$\n",
    "\n",
    "When $h_\\theta(x) = [[0.5], [0.5], [0.5] ... [0.5]] $, we will get \n",
    "\n",
    "$$j(\\theta) \\ = log(0.5) = 0.693 $$"
   ]
  },
  {
   "cell_type": "markdown",
   "metadata": {},
   "source": [
    "**1.1.4 Learning parameters using *fmin***\n",
    "\n",
    "In the previous assignment, you found the optimal parameters of a linear regression model by\n",
    "implementing gradient descent. You wrote a cost function and calculated its gradient, then took\n",
    "a gradient descent step accordingly. This time, instead of taking gradient descent steps, you will\n",
    "use a scipy.optimize built-in function called *fmin*.\n",
    "\n",
    "The final $\\theta$ value will then be used to plot the\n",
    "decision boundary on the training data, as seen in the figure below."
   ]
  },
  {
   "cell_type": "code",
   "execution_count": 8,
   "metadata": {},
   "outputs": [],
   "source": [
    "import climin\n",
    "from functools import partial"
   ]
  },
  {
   "cell_type": "code",
   "execution_count": 9,
   "metadata": {},
   "outputs": [],
   "source": [
    "def optimize(theta_init, loss, loss_grad, max_iter=10000, print_every=1000, optimizer_fn=None, show=False):\n",
    "    theta = theta_init.copy() \n",
    "    opt_args = (theta, loss_grad)\n",
    "    \n",
    "    if optimizer_fn is None:\n",
    "        optimizer_fn = partial(climin.GradientDescent, step_rate=1e-3, momentum=0.999)\n",
    "\n",
    "    optimizer = optimizer_fn(*opt_args)\n",
    "    \n",
    "    loss_curve = []\n",
    "    for opt_info in optimizer:\n",
    "        n_iter = opt_info['n_iter']\n",
    "        f_value = loss(theta)\n",
    "        loss_curve.append(f_value)\n",
    "\n",
    "        if print_every != 0 and n_iter % print_every == 0:\n",
    "            print(n_iter, f_value)\n",
    "\n",
    "        if n_iter == max_iter:\n",
    "            break\n",
    "    \n",
    "    if show:\n",
    "        plt.plot(loss_curve)\n",
    "        plt.show()\n",
    "    \n",
    "    return theta, f_value"
   ]
  },
  {
   "cell_type": "code",
   "execution_count": 10,
   "metadata": {},
   "outputs": [
    {
     "name": "stdout",
     "output_type": "stream",
     "text": [
      "1000 0.2323549253449114\n",
      "2000 0.20707436313671757\n",
      "3000 0.20892645351895275\n",
      "4000 0.20969077333394093\n",
      "5000 0.2088788680198901\n",
      "6000 0.20707752314457156\n",
      "7000 0.2057098482536051\n",
      "8000 0.2047598627173497\n",
      "9000 0.2041540106268107\n",
      "10000 0.20381418595046075\n"
     ]
    },
    {
     "data": {
      "image/png": "[encoded data removed]",
      "text/plain": [
       "<Figure size 432x288 with 1 Axes>"
      ]
     },
     "metadata": {},
     "output_type": "display_data"
    },
    {
     "name": "stdout",
     "output_type": "stream",
     "text": [
      "0.20381418595046075\n"
     ]
    }
   ],
   "source": [
    "theta_init = np.zeros((3, 1))\n",
    "loss = partial(logistic_loss_theta, X_data, y_data, hyposesis_function)\n",
    "loss_grad = partial(logistic_loss_theta_grad, X_data, y_data, hyposesis_function)\n",
    "theta, best_cost = optimize(theta_init, loss, loss_grad, show=True)\n",
    "print(best_cost)"
   ]
  },
  {
   "cell_type": "code",
   "execution_count": 11,
   "metadata": {},
   "outputs": [
    {
     "data": {
      "image/png": "[encoded data removed]",
      "text/plain": [
       "<Figure size 720x432 with 1 Axes>"
      ]
     },
     "metadata": {},
     "output_type": "display_data"
    }
   ],
   "source": [
    "# Plotting the decision boundary: two points, draw a line between\n",
    "# Decision boundary occurs when h = 0, or when\n",
    "# theta_0*x1 + theta_1*x2 + theta_2 = 0\n",
    "# y=mx+b is replaced by x2 = (-1/theta1)(theta2 + theta0*x1)\n",
    "\n",
    "line_xs = np.array([np.min(X_data[:,0]), np.max(X_data[:,0])])\n",
    "line_ys = (-1./theta[1])*(theta[2] + theta[0]*line_xs)\n",
    "plot_data(**student_plotting_spec)\n",
    "plt.plot(line_xs, line_ys, 'b-', lw=10, alpha=0.2, label='Decision Boundary')\n",
    "plt.legend()\n",
    "plt.show()"
   ]
  },
  {
   "cell_type": "markdown",
   "metadata": {},
   "source": [
    "**1.1.5 [15pts] Evaluating logistic regression**\n",
    "\n",
    "After learning the parameters, you can use the model to predict whether a particular student will\n",
    "be admitted. \n",
    "\n",
    "(a) [5 pts] Show that for a student with an Exam 1 score of 45 and an Exam 2 score of 85, you should\n",
    "expect to see an admission probability of 0.776.\n",
    "\n",
    "Another way to evaluate the quality of the parameters we have found is to see how well the\n",
    "learned model predicts on our training set. \n",
    "\n",
    "(b) [10 pts] In this part, your task is to complete the code in\n",
    "*makePrediction*. The predict function will produce “1” or “0” predictions given a dataset and a learned\n",
    "parameter vector $\\theta$. After you have completed the code, the script below will proceed to report the\n",
    "training accuracy of your classifier by computing the percentage of examples it got correct. You\n",
    "should also see a Training Accuracy of 89.0. "
   ]
  },
  {
   "cell_type": "code",
   "execution_count": 12,
   "metadata": {},
   "outputs": [
    {
     "name": "stdout",
     "output_type": "stream",
     "text": [
      "(1, 3)\n",
      "[[0.78755263]]\n"
     ]
    }
   ],
   "source": [
    "# For a student with an Exam 1 score of 45 and an Exam 2 score of 85, \n",
    "# you should expect to see an admission probability of 0.776.\n",
    "check_data = np.array([[45., 85., 1]])\n",
    "print(check_data.shape)\n",
    "print(hyposesis_function(check_data, theta))"
   ]
  },
  {
   "cell_type": "code",
   "execution_count": 13,
   "metadata": {},
   "outputs": [
    {
     "name": "stdout",
     "output_type": "stream",
     "text": [
      "0.9\n"
     ]
    }
   ],
   "source": [
    "# use hyposesis function and broadcast compare operator\n",
    "def predict(x, theta):\n",
    "    y_pred = np.round(hyposesis_function(x, theta))\n",
    "    return y_pred \n",
    "\n",
    "def accuracy(x, y, theta):\n",
    "    y_pred = predict(x, theta)\n",
    "    return (y_pred == y).sum().astype(float) / len(y_pred)\n",
    "\n",
    "print(accuracy(X_data, y_data, theta))"
   ]
  },
  {
   "cell_type": "markdown",
   "metadata": {},
   "source": [
    "### 2. Regularized logistic regression\n",
    "\n",
    "In this part of the exercise, you will implement regularized logistic regression to predict whether microchips from a fabrication plant pass quality assurance (QA). During QA, each microchip goes through various tests to ensure it is functioning correctly. Suppose you are the product manager of the factory and you have the test results for some microchips on two different tests. From these two tests, you would like to determine whether the microchips should be accepted or rejected. To help you make the decision, you have a dataset of test results on past microchips in *ex2data2.txt*, from which you can build a logistic regression model."
   ]
  },
  {
   "cell_type": "markdown",
   "metadata": {},
   "source": [
    "**2.1 Visualizing the data**\n",
    "\n",
    "Similar to the previous parts of this exercise, plotData is used to generate the figure below,\n",
    "where the axes are the two test scores, and the positive (y = 1, accepted) and negative (y = 0,\n",
    "rejected) examples are shown with different markers.\n",
    "\n",
    "The figure below shows that our dataset cannot be separated into positive and negative examples by a\n",
    "straight line. Therefore, a straightforward application of logistic regression will not perform well on this dataset since logistic regression will only be able to find a linear decision boundary.\n"
   ]
  },
  {
   "cell_type": "code",
   "execution_count": 14,
   "metadata": {},
   "outputs": [
    {
     "name": "stdout",
     "output_type": "stream",
     "text": [
      "(118, 2) -0.83007 1.1089 float64\n",
      "(118, 1) 0.0 1.0 float64\n",
      "(118, 2) -0.9528415593220338 1.0161210915254237 float64\n",
      "(118, 1) 0 1 int32\n"
     ]
    }
   ],
   "source": [
    "X_data_, y_data = read_classification_csv_data('ex2data2.txt')\n",
    "X_data = X_data_ - X_data_.mean(axis=0)[None, :]\n",
    "print(X_data.shape, X_data.min(), X_data.max(), X_data.dtype)\n",
    "print(y_data.shape, y_data.min(), y_data.max(), y_data.dtype)"
   ]
  },
  {
   "cell_type": "code",
   "execution_count": 15,
   "metadata": {},
   "outputs": [
    {
     "data": {
      "image/png": "[encoded data removed]",
      "text/plain": [
       "<Figure size 432x432 with 1 Axes>"
      ]
     },
     "metadata": {},
     "output_type": "display_data"
    }
   ],
   "source": [
    "chip_plotting_spec = {\n",
    "    'X': X_data,\n",
    "    'y': y_data, \n",
    "    'xlabel': 'Microchip Test 1 Result', \n",
    "    'ylabel': 'Microchip Test 2 Result',\n",
    "    'labels': ['rejected', 'accepted'], \n",
    "    'markers': ['yo', 'k+'],\n",
    "    'figsize': (6, 6)\n",
    "}\n",
    "\n",
    "plot_data(**chip_plotting_spec)\n",
    "plt.show()"
   ]
  },
  {
   "cell_type": "markdown",
   "metadata": {},
   "source": [
    "**2.2 Nonlinear feature mapping**\n",
    "\n",
    "One way to fit the data better is to create more features from each data point. In *mapFeature* below, we will map the features into all polynomial terms of $x_1$ and $x_2$ up to the\n",
    "sixth power as follows:\n",
    "\n",
    "\\begin{equation}\n",
    "mapFeature(x) \\ = \\\n",
    "\\begin{bmatrix}\n",
    "    1 \\\\\n",
    "    x_1 \\\\\n",
    "    x_2 \\\\\n",
    "    x_1^2 \\\\\n",
    "    x_1x_2 \\\\\n",
    "    x_2^2 \\\\\n",
    "    x_1^3 \\\\\n",
    "    \\vdots \\\\\n",
    "    x_1x_2^5 \\\\\n",
    "    x_2^6 \\\\\n",
    "\\end{bmatrix}\n",
    "\\end{equation}\n",
    "\n",
    "As a result of this mapping, our vector of two features (the scores\n",
    "on two QA tests) has been transformed into a 28-dimensional\n",
    "vector. A logistic regression classifier trained on this\n",
    "higher-dimension feature vector will have a more complex\n",
    "decision boundary and will appear nonlinear when drawn in our\n",
    "2-dimensional plot.\n",
    "While the feature mapping allows us to build a more expressive\n",
    "classifier, it is also more susceptible to overfitting. In the next parts\n",
    "of the exercise, you will implement regularized logistic regression\n",
    "to fit the data and also see for yourself how regularization can help combat the overfitting problem.\n",
    "\n",
    "Either finite dimentional (or even infinite-dimentional, as you would see in the SVM leacture and the corresponding home assingment) feature mappings are usually denoted by $\\Phi$ and therefore our hyposesis is now that the Bernoulli probability of chip matfunctioning might be described as\n",
    "\n",
    "$$ p_i = \\sigma(\\Phi(x_i)^T \\theta)$$"
   ]
  },
  {
   "cell_type": "code",
   "execution_count": 16,
   "metadata": {},
   "outputs": [
    {
     "name": "stdout",
     "output_type": "stream",
     "text": [
      "[[ 0  0  1  0  2  1  0  2  3  1  4  2  1  3  0  5  3  0  2  4  1  0  6  2\n",
      "   5  4  3  1  4  0  1  2  6  7  3  5  2  3  4  6  8  5  7  0  1  4  7  3\n",
      "   6  9  8  0  2  1  5  9  3  5  7  8  4 10  6  1  0  2  0  9  1  4  5  2\n",
      "  10  7  8  6 11  3  7  0  1  9 12  4  6  2  8 11 10  3  5  6 13  1  5  7\n",
      "   9  8  4 12  2 10  0 11  3  0 12 11 14 10  9  7  6  8 13  4  2  3  1  5\n",
      "   5  4  9  0 15 14  7  1 10  8  3  2 11  6 12 13  8  3 11  2 14  9 12 13\n",
      "  10 16  4  0  6  5  1 15  7 12  5  2 13 11  6 15  3 10  7  0  1 16 14  8\n",
      "   4  9 17  5 12  2  4  8 14 13 16 11  9  6 15  0  1 10  3 18  7 17 15 13\n",
      "  14 17 19 18 16  2 12  3  1  4  5  0  7  8  6  9 10 11 11 18  3  1 17 10\n",
      "   4 16 13  5  0 19 15 12  6  9  7 14  2  8 20]\n",
      " [ 0  1  0  2  0  1  3  1  0  2  0  2  3  1  4  0  2  5  3  1  4  6  0  4\n",
      "   1  2  3  5  3  7  6  5  1  0  4  2  6  5  4  2  0  3  1  8  7  5  2  6\n",
      "   3  0  1  9  7  8  4  1  7  5  3  2  6  0  4  9 10  8 11  2 10  7  6  9\n",
      "   1  4  3  5  0  8  5 12 11  3  0  8  6 10  4  1  2  9  7  7  0 12  8  6\n",
      "   4  5  9  1 11  3 13  2 10 14  2  3  0  4  5  7  8  6  1 10 12 11 13  9\n",
      "  10 11  6 15  0  1  8 14  5  7 12 13  4  9  3  2  8 13  5 14  2  7  4  3\n",
      "   6  0 12 16 10 11 15  1  9  5 12 15  4  6 11  2 14  7 10 17 16  1  3  9\n",
      "  13  8  0 13  6 16 14 10  4  5  2  7  9 12  3 18 17  8 15  0 11  1  4  6\n",
      "   5  2  0  1  3 17  7 16 18 15 14 19 12 11 13 10  9  8  9  2 17 19  3 10\n",
      "  16  4  7 15 20  1  5  8 14 11 13  6 18 12  0]]\n",
      "total power per monomial [ 0  1  1  2  2  2  3  3  3  3  4  4  4  4  4  5  5  5  5  5  5  6  6  6\n",
      "  6  6  6  6  7  7  7  7  7  7  7  7  8  8  8  8  8  8  8  8  8  9  9  9\n",
      "  9  9  9  9  9  9  9 10 10 10 10 10 10 10 10 10 10 10 11 11 11 11 11 11\n",
      " 11 11 11 11 11 11 12 12 12 12 12 12 12 12 12 12 12 12 12 13 13 13 13 13\n",
      " 13 13 13 13 13 13 13 13 13 14 14 14 14 14 14 14 14 14 14 14 14 14 14 14\n",
      " 15 15 15 15 15 15 15 15 15 15 15 15 15 15 15 15 16 16 16 16 16 16 16 16\n",
      " 16 16 16 16 16 16 16 16 16 17 17 17 17 17 17 17 17 17 17 17 17 17 17 17\n",
      " 17 17 17 18 18 18 18 18 18 18 18 18 18 18 18 18 18 18 18 18 18 18 19 19\n",
      " 19 19 19 19 19 19 19 19 19 19 19 19 19 19 19 19 19 19 20 20 20 20 20 20\n",
      " 20 20 20 20 20 20 20 20 20 20 20 20 20 20 20]\n",
      "(118, 231)\n"
     ]
    }
   ],
   "source": [
    "from itertools import combinations_with_replacement\n",
    "\n",
    "def polynomial_feature_map(X_data, degree=20, show_me_ur_powers=False):\n",
    "    assert len(X_data.shape) == 2\n",
    "    group_size = X_data.shape[1]\n",
    "    assert group_size == 2\n",
    "    # hm.. how to get all ordered pairs (c, d) of non-negative ints \n",
    "    # such that their sum is c + d <= dergee? \n",
    "    # it is eqvivalent to getting all groups of integers (a, b) such that\n",
    "    # 0 <= a <= b <= degree and definintg c = a, d = b - a\n",
    "    # their sum is below degree, both are >= 0 \n",
    "    # then feature_i = (x_0 ^ c) * (x_1 ^ d)\n",
    "    comb_iterator = combinations_with_replacement(range(degree+1), group_size)\n",
    "    not_quite_powers = np.array(list(comb_iterator))\n",
    "    powers_bad_order = not_quite_powers.copy()\n",
    "    powers_bad_order[:, 1] -= not_quite_powers[:, 0]\n",
    "    # let's reoder them so that lower power monomials come first\n",
    "    rising_power_idx = np.argsort(powers_bad_order.sum(axis=1))\n",
    "    powers = powers_bad_order[rising_power_idx]\n",
    "    if show_me_ur_powers is True:\n",
    "        print(powers.T)\n",
    "        print('total power per monomial', powers.sum(axis=1))\n",
    "    X_with_powers = np.power(X_data[:, :, None], powers.T[None])\n",
    "    # tu tu power rangers (with replacement)\n",
    "    X_poly = np.prod(X_with_powers, axis=1)\n",
    "    return X_poly\n",
    "\n",
    "X_pf = polynomial_feature_map(X_data, show_me_ur_powers=True)\n",
    "print(X_pf.shape)"
   ]
  },
  {
   "cell_type": "markdown",
   "metadata": {},
   "source": [
    "**2.3 Cost function and gradient**\n",
    "\n",
    "Now you will implement code to compute the cost function and gradient for regularized logistic\n",
    "regression. Recall that the regularized cost function in logistic regression is:\n",
    "\n",
    "$j(\\theta) \\ = \\ [ \\ \\frac{1}{m} \\ \\sum_{i=1}^{m} \\ [ \\ -y^{(i)} log(h_\\theta(x^{(i)})) \\ - \\ (1 - y^{(i)})log(1-h_\\theta(x^{(i)})) \\ ] \\ ] \\ + \\frac{\\lambda}{2m} \\sum_{j=2}^{n} \\theta_j^2 $\n",
    "\n",
    "Note that you should not regularize the parameter $\\theta_0$ (Why not? Think about why that would be a bad idea).\n",
    "\n",
    "The gradient of the cost function is a vector where the j element is defined as follows (you should understand how to obtain this expression):\n",
    "\n",
    "$\\frac{\\partial J(\\theta)}{\\partial \\theta_{0}} \\ = \\ \\frac{1}{m} \\ \\sum_{i=1}^{m} \\ (h_\\theta(x^{(i)})-y^{(i)}) x_j^{(i)} \\quad \\quad \\quad \\quad \\quad \\quad$ for $\\quad j=0$\n",
    "\n",
    "$\\frac{\\partial J(\\theta)}{\\partial \\theta_{j}} \\ = \\ (\\frac{1}{m} \\ \\sum_{i=1}^{m} \\ (h_\\theta(x^{(i)})-y^{(i)}) x_j^{(i)}) + \\frac{\\lambda}{m}\\theta_j \\quad \\quad \\quad$ for $\\quad j \\ge 1$\n"
   ]
  },
  {
   "cell_type": "markdown",
   "metadata": {},
   "source": [
    "**2.3.1 [10pts] Implementing regularized logistic regression**\n",
    "\n",
    "Re-implement computeCost with regularization."
   ]
  },
  {
   "cell_type": "code",
   "execution_count": 29,
   "metadata": {},
   "outputs": [],
   "source": [
    "# Cost function, default lambda (regularization) 0\n",
    "def logistic_loss_theta_w_reg(x, y, h, theta, lambda_=0.0): \n",
    "    no_lambda = logistic_loss_theta(x, y, h, theta)\n",
    "    m = y.shape[0]\n",
    "    w_lambda = no_lambda + lambda_ / (2 * m )* np.sum(np.square(theta))\n",
    "    return w_lambda\n",
    "    \n",
    "\n",
    "def logistic_loss_theta_w_reg_grad(x, y, h, theta, lambda_=0.0): \n",
    "    no_lambda = logistic_loss_theta_grad(x, y, h, theta)\n",
    "    m = y.shape[0]\n",
    "    w_lambda = (lambda_ / m) * theta\n",
    "    w_lambda[0] = 0\n",
    "    return no_lambda + w_lambda   \n"
   ]
  },
  {
   "cell_type": "markdown",
   "metadata": {},
   "source": [
    "Once you are done, you will call your cost function using the initial value of\n",
    "θ (initialized to all zeros). You should see that the cost is about 0.693. "
   ]
  },
  {
   "cell_type": "code",
   "execution_count": 30,
   "metadata": {
    "scrolled": true
   },
   "outputs": [
    {
     "name": "stdout",
     "output_type": "stream",
     "text": [
      "0.6931471805599454\n",
      "[[ 8.47457627e-03]\n",
      " [-1.47393694e-03]\n",
      " [ 1.83238652e-02]\n",
      " [ 3.79204875e-02]\n",
      " [ 4.83116870e-02]\n",
      " [ 8.14194228e-03]\n",
      " [ 2.74281128e-03]\n",
      " [-2.78183863e-03]\n",
      " [ 1.02502549e-02]\n",
      " [ 2.53327158e-03]\n",
      " [ 3.62206863e-02]\n",
      " [ 1.14745376e-02]\n",
      " [-5.13006494e-04]\n",
      " [-7.37665567e-04]\n",
      " [ 2.96926570e-02]\n",
      " [ 9.66227378e-03]\n",
      " [ 1.26710268e-03]\n",
      " [ 5.83282025e-04]\n",
      " [-7.50311428e-04]\n",
      " [-2.66858278e-03]\n",
      " [ 1.96894912e-03]\n",
      " [ 2.22460292e-02]\n",
      " [ 2.61849067e-02]\n",
      " [ 5.14792073e-03]\n",
      " [-1.80202003e-03]\n",
      " [ 5.56307799e-03]\n",
      " [-1.21167516e-03]\n",
      " [-2.15775754e-03]\n",
      " [-7.77390798e-04]\n",
      " [-9.97158003e-04]\n",
      " [ 1.71369098e-03]\n",
      " [-6.27268614e-04]\n",
      " [-2.22430409e-03]\n",
      " [ 9.08105468e-03]\n",
      " [ 8.49610910e-04]\n",
      " [ 1.01196534e-03]\n",
      " [ 2.91086360e-03]\n",
      " [-1.05308072e-03]\n",
      " [ 2.03649298e-03]\n",
      " [ 3.01185527e-03]\n",
      " [ 1.95553205e-02]\n",
      " [-8.02388158e-04]\n",
      " [-1.74538564e-03]\n",
      " [ 1.70850907e-02]\n",
      " [-2.24318631e-03]\n",
      " [-4.29158120e-04]\n",
      " [ 7.52146991e-04]\n",
      " [ 5.96787640e-04]\n",
      " [-6.12485717e-04]\n",
      " [ 8.44926264e-03]\n",
      " [-1.72286617e-03]\n",
      " [-1.85306005e-03]\n",
      " [-5.83990046e-04]\n",
      " [ 1.55326398e-03]\n",
      " [ 5.26695294e-04]\n",
      " [-1.48962270e-03]\n",
      " [-7.85026484e-04]\n",
      " [-5.21056659e-04]\n",
      " [-5.06525809e-04]\n",
      " [ 1.75113347e-03]\n",
      " [ 9.94803149e-04]\n",
      " [ 1.52391383e-02]\n",
      " [ 9.72566668e-04]\n",
      " [-2.00909851e-03]\n",
      " [ 1.35100928e-02]\n",
      " [ 1.88656843e-03]\n",
      " [-2.25032182e-03]\n",
      " [ 5.34461772e-04]\n",
      " [ 1.41933459e-03]\n",
      " [-2.83959262e-04]\n",
      " [ 3.08317958e-04]\n",
      " [-5.37087646e-04]\n",
      " [-1.32506623e-03]\n",
      " [ 3.34412182e-04]\n",
      " [-4.25516303e-04]\n",
      " [-2.90240458e-04]\n",
      " [ 7.90050084e-03]\n",
      " [ 4.44349403e-04]\n",
      " [-2.76713749e-04]\n",
      " [ 1.09436748e-02]\n",
      " [-1.73758499e-03]\n",
      " [-3.21363567e-04]\n",
      " [ 1.24079315e-02]\n",
      " [ 5.71999634e-04]\n",
      " [ 4.32732207e-04]\n",
      " [ 1.33553760e-03]\n",
      " [ 5.12654909e-04]\n",
      " [-1.23938660e-03]\n",
      " [ 1.06907659e-03]\n",
      " [-5.80663410e-04]\n",
      " [-3.33795768e-04]\n",
      " [-1.60990627e-04]\n",
      " [ 7.47484721e-03]\n",
      " [ 1.29042510e-03]\n",
      " [ 1.93080059e-04]\n",
      " [ 1.76990626e-04]\n",
      " [ 2.09326473e-04]\n",
      " [-1.86973776e-04]\n",
      " [-2.07021597e-04]\n",
      " [-1.04620838e-03]\n",
      " [-4.86587418e-04]\n",
      " [-2.80191940e-04]\n",
      " [-2.38498748e-03]\n",
      " [ 3.75865346e-04]\n",
      " [ 3.50244399e-04]\n",
      " [ 9.03209550e-03]\n",
      " [ 6.77123643e-04]\n",
      " [-2.04647384e-04]\n",
      " [ 1.05371383e-02]\n",
      " [ 2.87124296e-04]\n",
      " [-1.56428071e-04]\n",
      " [-1.58474755e-04]\n",
      " [ 2.27964051e-04]\n",
      " [ 2.12965399e-04]\n",
      " [-1.04058930e-03]\n",
      " [ 3.66985247e-04]\n",
      " [ 1.00233823e-03]\n",
      " [-4.39251806e-04]\n",
      " [-1.49331666e-03]\n",
      " [-2.20523830e-04]\n",
      " [ 1.30451628e-04]\n",
      " [-1.61176751e-04]\n",
      " [ 1.04119828e-04]\n",
      " [-2.37488815e-03]\n",
      " [ 7.16946632e-03]\n",
      " [-8.61198695e-04]\n",
      " [ 9.95414889e-05]\n",
      " [ 1.16421308e-03]\n",
      " [-1.16709110e-04]\n",
      " [-9.51174611e-05]\n",
      " [ 2.87275083e-04]\n",
      " [-4.35866834e-04]\n",
      " [ 1.29923762e-04]\n",
      " [-9.85544357e-05]\n",
      " [-1.80712606e-04]\n",
      " [ 2.66827110e-04]\n",
      " [ 1.04689809e-04]\n",
      " [-3.41331526e-04]\n",
      " [-9.15817603e-05]\n",
      " [ 7.82822860e-04]\n",
      " [ 4.43095889e-04]\n",
      " [-8.27204171e-05]\n",
      " [ 1.66859455e-04]\n",
      " [-1.30791364e-04]\n",
      " [ 1.13406018e-04]\n",
      " [ 9.29796292e-03]\n",
      " [ 2.54559409e-04]\n",
      " [ 7.56219770e-03]\n",
      " [ 1.34573718e-04]\n",
      " [-1.52363835e-04]\n",
      " [-1.28640877e-03]\n",
      " [-8.94740987e-04]\n",
      " [-9.49435171e-05]\n",
      " [-7.17147424e-05]\n",
      " [ 9.45717643e-05]\n",
      " [-3.87371653e-04]\n",
      " [ 8.04167511e-05]\n",
      " [ 6.17684344e-05]\n",
      " [-6.57250165e-05]\n",
      " [ 1.93699340e-04]\n",
      " [ 2.41471250e-04]\n",
      " [-5.65355937e-05]\n",
      " [ 5.97572413e-05]\n",
      " [-2.28744025e-03]\n",
      " [ 1.04308827e-03]\n",
      " [-7.42326893e-04]\n",
      " [-1.16041532e-04]\n",
      " [-5.25177896e-05]\n",
      " [-1.30965247e-04]\n",
      " [ 5.49236357e-05]\n",
      " [ 6.96814247e-03]\n",
      " [-1.10125780e-04]\n",
      " [ 6.33934609e-05]\n",
      " [ 6.28673866e-04]\n",
      " [ 1.86987655e-04]\n",
      " [ 5.73885016e-05]\n",
      " [ 9.92359449e-05]\n",
      " [-5.45334072e-05]\n",
      " [ 2.99854418e-04]\n",
      " [-4.58889618e-05]\n",
      " [-4.58753639e-05]\n",
      " [ 8.65567605e-05]\n",
      " [-8.41661983e-05]\n",
      " [ 6.40173082e-03]\n",
      " [-1.11333815e-03]\n",
      " [ 5.30023157e-05]\n",
      " [-2.71775416e-04]\n",
      " [ 8.48180067e-03]\n",
      " [-5.99572151e-05]\n",
      " [-7.92108723e-04]\n",
      " [ 4.98326029e-05]\n",
      " [ 3.67822386e-05]\n",
      " [-4.37812881e-05]\n",
      " [ 1.45169685e-04]\n",
      " [ 6.85268784e-03]\n",
      " [-6.68120055e-04]\n",
      " [-7.49083298e-05]\n",
      " [-3.42482223e-04]\n",
      " [-3.35943102e-05]\n",
      " [ 2.05842933e-04]\n",
      " [ 9.29517573e-04]\n",
      " [-1.09218531e-04]\n",
      " [ 7.25918800e-05]\n",
      " [-2.16073377e-03]\n",
      " [ 3.84950427e-05]\n",
      " [-3.11509638e-05]\n",
      " [-4.72248742e-05]\n",
      " [ 3.04852627e-05]\n",
      " [-2.94487967e-05]\n",
      " [ 3.13101492e-05]\n",
      " [-2.41290980e-05]\n",
      " [ 2.10657777e-04]\n",
      " [-2.20772412e-04]\n",
      " [-9.68124950e-04]\n",
      " [-5.48182719e-05]\n",
      " [ 2.74189830e-05]\n",
      " [ 1.43302573e-04]\n",
      " [ 5.99640102e-05]\n",
      " [-2.63125037e-05]\n",
      " [-8.28445778e-05]\n",
      " [ 5.46567327e-03]\n",
      " [-7.22028416e-04]\n",
      " [-3.27481656e-05]\n",
      " [ 2.86020127e-05]\n",
      " [ 5.96304276e-05]\n",
      " [-2.67109736e-05]\n",
      " [-4.00056524e-05]\n",
      " [ 3.64708123e-05]\n",
      " [ 5.15053246e-04]\n",
      " [ 3.41810853e-05]\n",
      " [ 7.95432475e-03]]\n"
     ]
    },
    {
     "data": {
      "image/png": "[encoded data removed]",
      "text/plain": [
       "<Figure size 432x288 with 1 Axes>"
      ]
     },
     "metadata": {},
     "output_type": "display_data"
    },
    {
     "name": "stdout",
     "output_type": "stream",
     "text": [
      "best loss 0.31134337941846557\n",
      "best acc 0.847457627118644\n"
     ]
    }
   ],
   "source": [
    "theta_init = np.zeros((X_pf.shape[1], 1))\n",
    "print(logistic_loss_theta_w_reg(X_pf, y_data, hyposesis_function, theta_init))\n",
    "print(logistic_loss_theta_w_reg_grad(X_pf, y_data, hyposesis_function, theta_init))\n",
    "\n",
    "loss = partial(logistic_loss_theta_w_reg, X_pf, y_data, hyposesis_function)\n",
    "loss_grad = partial(logistic_loss_theta_w_reg_grad, X_pf, y_data, hyposesis_function)\n",
    "theta, best_cost = optimize(theta_init, loss, loss_grad, max_iter=10000, print_every=0, show=True)\n",
    "print('best loss', best_cost)\n",
    "print('best acc', accuracy(X_pf, y_data, theta))"
   ]
  },
  {
   "cell_type": "markdown",
   "metadata": {},
   "source": [
    "**2.3.2 [15pts] Learning parameters using *minimize***\n",
    "\n",
    "You will use *optimize.minimize* to learn the optimal parameters $\\theta$. If you\n",
    "have completed the cost and gradient for regularized logistic regression correctly, you should be able to learn the parameters\n",
    "$\\theta$ using *minimize*. Implement the function *optimizeRegularizedTheta* below.  "
   ]
  },
  {
   "cell_type": "markdown",
   "metadata": {},
   "source": [
    "**2.4 Plotting the decision boundary**\n",
    "\n",
    "To help you visualize the model learned by this classifier, we have provided the function\n",
    "*plotBoundary* which plots the (non-linear) decision boundary that separates the\n",
    "positive and negative examples. "
   ]
  },
  {
   "cell_type": "code",
   "execution_count": 19,
   "metadata": {},
   "outputs": [],
   "source": [
    "def plot_boundary(theta, ax=None):\n",
    "    \"\"\"\n",
    "    Function to plot the decision boundary for arbitrary theta, X, y, lambda value\n",
    "    Inside of this function is feature mapping, and the minimization routine.\n",
    "    It works by making a grid of x1 (\"xvals\") and x2 (\"yvals\") points,\n",
    "    And for each, computing whether the hypothesis classifies that point as\n",
    "    True or False. Then, a contour is drawn with a built-in pyplot function.\n",
    "    \"\"\"\n",
    "    ax = ax or plt.gca()\n",
    "    x_range = np.linspace(-1,1.5,50)\n",
    "    y_range = np.linspace(-1,1.5,50)\n",
    "    xx, yy = np.meshgrid(x_range, y_range)\n",
    "    X_fake = np.stack([xx, yy]).reshape(2, -1).T\n",
    "    X_fake_fm = polynomial_feature_map(X_fake)\n",
    "    y_pred_fake = hyposesis_function(X_fake_fm, theta)\n",
    "    return ax.contour( x_range, y_range, y_pred_fake.reshape(50, 50).T, [0.5])"
   ]
  },
  {
   "cell_type": "markdown",
   "metadata": {},
   "source": [
    "**2.4.1 [10pts] Plot Decision Boundaries**\n",
    "\n",
    "(a) [2 pts] Use *plotBoundary* to obtain four subplots of the decision boundary for the following values of the regularization parameter: $\\lambda \\ = \\ 0, 1, 5, 10$\n",
    "\n",
    "(b) [2 pts] Comment on which plots are overfitting and which plots are underfitting.\n",
    "\n",
    "(c) [2 pts] Which is the model with the highest bias? The highest variance?\n",
    "\n",
    "(d) [2 pts] What is another way to detect overfitting? \n",
    "\n",
    "(e) [2 pts] Considering that later components of theta correspond to higher powers of monomials, plot values of theta and commend on effects of regularization"
   ]
  },
  {
   "cell_type": "code",
   "execution_count": 31,
   "metadata": {
    "scrolled": false
   },
   "outputs": [
    {
     "name": "stdout",
     "output_type": "stream",
     "text": [
      "[(34, 231), (34, 1), (84, 231), (84, 1)]\n"
     ]
    },
    {
     "data": {
      "image/png": "[encoded data removed]",
      "text/plain": [
       "<Figure size 864x720 with 4 Axes>"
      ]
     },
     "metadata": {},
     "output_type": "display_data"
    },
    {
     "data": {
      "image/png": "[encoded data removed]",
      "text/plain": [
       "<Figure size 432x288 with 4 Axes>"
      ]
     },
     "metadata": {},
     "output_type": "display_data"
    }
   ],
   "source": [
    "# (a) Build a figure showing contours for various values of regularization parameter, lambda\n",
    "\n",
    "np.random.seed(2)\n",
    "train_idx_mask = np.random.rand(X_pf.shape[0]) < 0.3\n",
    "X_pf_train, y_train = X_pf[train_idx_mask], y_data[train_idx_mask]\n",
    "X_pf_test, y_test = X_pf[~train_idx_mask], y_data[~train_idx_mask]\n",
    "print([x.shape for x in (X_pf_train, y_train, X_pf_test, y_test)])\n",
    "\n",
    "def silent_optimize_w_lambda(lambda_):\n",
    "    theta_init = np.zeros((X_pf.shape[1], 1))\n",
    "    data = (X_pf_train, y_train, hyposesis_function)\n",
    "    loss = partial(logistic_loss_theta_w_reg, *data, lambda_=lambda_)\n",
    "    loss_grad = partial(logistic_loss_theta_w_reg_grad, *data, lambda_=lambda_)\n",
    "    optimizer_fn = partial(climin.GradientDescent, step_rate=1e-4, momentum=0.999)\n",
    "    theta, final_loss = optimize(\n",
    "        theta_init, loss, loss_grad, optimizer_fn=optimizer_fn, \n",
    "        max_iter=1000, print_every=0, show=False\n",
    "    )\n",
    "    return theta, final_loss\n",
    "\n",
    "thetas = []\n",
    "plt.figure(figsize=(12,10))\n",
    "\n",
    "# wow, I mutates an object used in the scope of another function (plot_data)\n",
    "# don't do that! it is really hard to debug later\n",
    "\n",
    "chip_plotting_spec['figsize'] = None\n",
    "\n",
    "\n",
    "# you might find following lines useful:\n",
    "#\n",
    "#    cnt_fmt = {0.5: 'Lambda = %d' % lambda_}\n",
    "#    ax.clabel(cnt, inline=1, fontsize=15, fmt=cnt_fmt)\n",
    "# \n",
    "# red dots indicate training samples\n",
    "\n",
    "for id_, lambda_ in enumerate([0, 1, 5, 10]):\n",
    "    ax = plt.subplot(2, 2, id_+1)\n",
    "    theta, final_loss = silent_optimize_w_lambda(lambda_)\n",
    "    thetas.append(theta)\n",
    "    acc = accuracy(X_pf_test, y_test, theta)\n",
    "    cnt_fmt = {0.5: 'Lambda = %d' % lambda_}\n",
    "    cnt = plot_boundary(theta, ax=ax)\n",
    "    ax.clabel(cnt, inline=1, fontsize=15, fmt=cnt_fmt)\n",
    "    ax.set_title('Decision Boundary, Accuracy=%.2f, Loss=%.2f' % (acc, final_loss))\n",
    "    plot_data(**chip_plotting_spec)\n",
    "    \n",
    "plt.show()\n",
    "\n",
    "# (e) [2 pts] Considering that later components of theta correspond to higher powers\n",
    "# of monomials, plot values of theta and commend on effects of regularization\n",
    "\n",
    "\n",
    "ax = None\n",
    "for th_id, theta in enumerate(thetas):\n",
    "    ax = plt.subplot(2, 2, th_id+1, sharey=ax)\n",
    "    ax.plot(theta)\n",
    "\n",
    "    \n",
    "plt.show()"
   ]
  },
  {
   "cell_type": "markdown",
   "metadata": {},
   "source": [
    "(a) [2 pts] Use plotBoundary to obtain four subplots of the decision boundary for the following values of the regularization parameter:  λ = 0,1,5,10λ = 0,1,5,10 \n",
    "(b) [2 pts] Comment on which plots are overfitting and which plots are underfitting.\n",
    "\n",
    "(c) [2 pts] Which is the model with the highest bias? The highest variance?\n",
    "\n",
    "(d) [2 pts] What is another way to detect overfitting?\n",
    "\n",
    "(e) [2 pts] Considering that later components of theta correspond to higher powers of monomials, plot values of theta and commend on effects of regularization"
   ]
  },
  {
   "cell_type": "markdown",
   "metadata": {},
   "source": [
    "**Answer**\n",
    "\n",
    "(b)  When λ = 0, the plot is overfitting, since the loss is low but accuracy is low as well.  When λ = 5, 10, the polts are underfitting, where the loss is high and accuracy is low.\n",
    "\n",
    "(c) When λ = 10, the model has the highest bias. When λ = 0, the model has the highest variance.\n",
    "\n",
    "(d) Use cross validation to check if the validation error is high.\n",
    "\n",
    "(e) With higher λ, theta are less and more close to zero, which are penalized by the regularization. But if the λ is too high, most theta are close to zero and have no effect on the model, which will lead to underfitting.\n"
   ]
  },
  {
   "cell_type": "markdown",
   "metadata": {},
   "source": [
    "### 3. Written part\n",
    "\n",
    "These problems are extremely important preparation for the exam. Submit solutions to each problem by filling the markdown cells below.\n",
    "\n",
    "**3.1 [10pts]** Maximum likelihood for Logistic Regression\n",
    "\n",
    "Showing all steps, derive the LR cost function using maximum likelihood. Assume that\n",
    "the probability of y given x is described by:\n",
    "\n",
    "$P(\\ y=1 \\; \\vert \\; x \\ ; \\ \\theta \\ ) = h_{\\theta}(x)$ \n",
    "\n",
    "$P(\\ y=0 \\; \\vert \\; x \\ ; \\ \\theta \\ ) = 1 - h_{\\theta}(x)$\n",
    "\n"
   ]
  },
  {
   "cell_type": "markdown",
   "metadata": {},
   "source": [
    "**Answer**\n",
    "\n",
    "Maximum likelihood can be written as \n",
    "\n",
    "$ P(\\ y \\; \\vert \\; X \\ ; \\ \\theta \\ )  =  \\prod_{i=1}^{m} P(\\ y_i \\; \\vert \\; x_i \\ ; \\ \\theta \\ ) = \\prod_{i=1}^{m} h_{\\theta}(x)^{y_i} (1 - h_{\\theta}(x))^{1-y_i} $ \n",
    "\n",
    "After log both sides:\n",
    "\n",
    "$ log(P(\\ y \\; \\vert \\; X \\ ; \\ \\theta \\ )) = \\sum_{i=1}^{m} \\ y_i \\ log(h_{\\theta}(x)) + (1-y_i) \\ log(1 - h_{\\theta}(x))    $\n",
    "\n",
    "Normaliztion and turn the negative value into positive, we will have the cost function:\n",
    "\n",
    "$j(\\theta) \\ = \\ \\frac{1}{m} \\ \\sum_{i=1}^{m} \\ [ \\ -y^{(i)} log(h_\\theta(x^{(i)})) \\ - \\ (1 - y^{(i)})log(1-h_\\theta(x^{(i)})) \\ ]$\n",
    "\n",
    "\n"
   ]
  },
  {
   "cell_type": "markdown",
   "metadata": {},
   "source": [
    "**3.2 [10pts]** Logistic Regression Classification with Label Noise\n",
    "\n",
    "Suppose you are building a logistic regression classifier for images of dogs, represented by a feature vector x, into one of two categories $y \\in \\{0,1\\}$, where 0 is “terrier” and 1 is “husky.” You decide to use the logistic regression model $p(y = 1 \\ \\vert \\ x) = h_{\\theta}(x)=\\theta^Tx.$ You collected an image dataset **D**$\\ = \\{x^{(i)},t^{(i)}\\}$, however, you were very tired and made\n",
    "some mistakes in assigning labels $t^{(i)}.$ You estimate that you were correct in about $\\tau$ fraction of all cases.\n",
    "\n",
    "(a) Write down the equation for the posterior probability $p(t = 1 \\ \\vert \\ x)$ of the label being 1 for some point x, in terms of the probability of the true class, $p(y = 1 \\ \\vert \\ x).$\n",
    "\n",
    "(b) Derive the modified cost function in terms of $\\ \\theta, x^{(i)},t^{(i)}$ and $\\tau$."
   ]
  },
  {
   "cell_type": "markdown",
   "metadata": {},
   "source": [
    "**Answer**\n",
    "\n",
    "(a)\n",
    "\n",
    "$p(t = 1 \\ \\vert \\ x) \\ = \\  p(y = 1 \\ \\vert \\ x) \\  \\tau + p(y = 0 \\ \\vert \\ x) (1 - \\tau ) \\ = \\  p(y = 1 \\ \\vert \\ x) \\ \\tau + (1 - p(y = 1 \\ \\vert \\ x) )(1 - \\tau )$\n",
    "\n",
    "(b)\n",
    "\n",
    "From Answer (a) we got :\n",
    "\n",
    "$ p(t = 1 \\ \\vert \\ x) = \\tau \\ (\\  p(y = 1 \\ \\vert \\ x) \\ - \\  p(y = 0 \\ \\vert \\ x) ) + p(y = 0 \\ \\vert \\ x) $\n",
    "\n",
    "$ p(t = 0 \\ \\vert \\ x) = \\tau \\ (\\  p(y = 0 \\ \\vert \\ x) \\ - \\  p(y = 1 \\ \\vert \\ x) ) + p(y = 1 \\ \\vert \\ x) $\n",
    "\n",
    "Since \n",
    "\n",
    "$p(y = 1 \\ \\vert \\ x) = h_{\\theta}(x)=\\theta^Tx $\n",
    "\n",
    "$p(y = 0 \\ \\vert \\ x) = 1 - h_{\\theta}(x)$\n",
    "\n",
    "We can rewrite the probability function below:\n",
    "\n",
    "$ p(t = 1 \\ \\vert \\ x) = h_{\\theta}(x) \\ (2 \\tau - 1) + ( 1 - \\tau) $\n",
    "\n",
    "$ p(t = 0 \\ \\vert \\ x) = h_{\\theta}(x) \\ (1 - 2 \\tau) + \\tau $\n",
    "\n",
    "Maximum likelihood:\n",
    "\n",
    "$ P(\\ t \\; \\vert \\; X \\ ; \\ \\theta \\ )  =  \\prod_{i=1}^{m} P(\\ t_i \\; \\vert \\; x_i \\ ) = \\prod_{t=1}^{m} [h_{\\theta}(x) \\ (2 \\tau - 1) + ( 1 - \\tau) ]^{t_i} [h_{\\theta}(x) \\ (1 - 2 \\tau) + \\tau ]^{1-t_i} $ \n",
    "\n",
    "Log both sides:\n",
    "\n",
    "$ log(P(\\ t \\; \\vert \\; X \\ )) = \\sum_{i=1}^{m} \\ t_i \\ log[h_{\\theta}(x) \\ (2 \\tau - 1) + ( 1 - \\tau) \\ ] \\ + \\  (1-t_i) \\ log[h_{\\theta}(x) \\ (1 - 2 \\tau) + \\tau ]    $\n",
    "\n",
    "Finally the loss function:\n",
    "\n",
    "$j(\\theta) \\ = - \\ \\frac{1}{m} \\ \\sum_{i=1}^{m} \\ t_i \\ log[h_{\\theta}(x) \\ (2 \\tau - 1) + ( 1 - \\tau) \\ ] \\ + \\  (1-t_i) \\ log[h_{\\theta}(x) \\ (1 - 2 \\tau) + \\tau ] $"
   ]
  },
  {
   "cell_type": "markdown",
   "metadata": {},
   "source": [
    "**3.3 [10pts] Cross-entropy loss for multiclass classification**\n",
    "\n",
    "This problem asks you to derive the cross-entropy loss for a multiclass classification problem using maximum likelihood.\n",
    "Consider the multiclass classification problem in which each input is assigned to one of $K$ mutually exclusive classes. The binary target variables $y_k$ ∈ {0, 1} have a \"one-hot\" coding scheme, where the value is 1 for the indicated class and 0 for all others. Assume that we can interpret the network outputs as $h_k(x,\\theta) = p(y_k = 1|x)$, or the probability of the kth class.\n",
    "\n",
    "Show that the maximum likelihood estimate of the parameters $\\theta$ can be obtained by minimizing the multiclass *cross-entropy* loss function \n",
    "<p>\n",
    "$L(\\theta)= - \\frac{1}{N}\\sum_{i=1}^{N} \\sum_{k=1}^{K} y_{ik} \\log(h_k(x_i,\\theta))$\n",
    "</p>\n",
    "<p>\n",
    "where $N$ is the number of examples $\\{x_i,y_i\\}$. </p>"
   ]
  },
  {
   "cell_type": "markdown",
   "metadata": {},
   "source": [
    "**Answer**\n",
    "\n",
    "For one data point x:\n",
    "\n",
    "$p(y_k = 1| \\ x) = h_k(x,\\theta) =  \\prod_{k=1}^{K} h_k(x,\\theta)^ {y_{k}}$\n",
    "\n",
    "For all data:\n",
    "\n",
    "$p(y_k = 1| \\ X ) =  \\prod_{i=1}^{N} \\ \\prod_{k=1}^{K} h_k(x_i,\\theta)^ {y_{ik}}$\n",
    "\n",
    "Then we can get the maximum likelihood by taking log for both sides and normalization.\n",
    "\n",
    "$L(\\theta)= - \\frac{1}{N}\\sum_{i=1}^{N} \\sum_{k=1}^{K} y_{ik} \\log(h_k(x_i,\\theta))$\n"
   ]
  },
  {
   "cell_type": "code",
   "execution_count": null,
   "metadata": {},
   "outputs": [],
   "source": []
  }
 ],
 "metadata": {
  "anaconda-cloud": {},
  "kernelspec": {
   "display_name": "Python 3",
   "language": "python",
   "name": "python3"
  },
  "language_info": {
   "codemirror_mode": {
    "name": "ipython",
    "version": 3
   },
   "file_extension": ".py",
   "mimetype": "text/x-python",
   "name": "python",
   "nbconvert_exporter": "python",
   "pygments_lexer": "ipython3",
   "version": "3.6.5"
  }
 },
 "nbformat": 4,
 "nbformat_minor": 1
}
